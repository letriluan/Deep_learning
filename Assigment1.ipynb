{
  "cells": [
    {
      "cell_type": "code",
      "execution_count": 61,
      "metadata": {
        "colab": {
          "base_uri": "https://localhost:8080/"
        },
        "id": "g4qj3LFNsZox",
        "outputId": "4b038fe3-b5f6-4951-cd43-0039fae77d0a"
      },
      "outputs": [
        {
          "output_type": "stream",
          "name": "stdout",
          "text": [
            "Requirement already satisfied: libsvmdata in /usr/local/lib/python3.10/dist-packages (0.4.1)\n",
            "Requirement already satisfied: download in /usr/local/lib/python3.10/dist-packages (from libsvmdata) (0.3.5)\n",
            "Requirement already satisfied: numpy>=1.12 in /usr/local/lib/python3.10/dist-packages (from libsvmdata) (1.23.5)\n",
            "Requirement already satisfied: scikit-learn in /usr/local/lib/python3.10/dist-packages (from libsvmdata) (1.2.2)\n",
            "Requirement already satisfied: scipy in /usr/local/lib/python3.10/dist-packages (from libsvmdata) (1.11.2)\n",
            "Requirement already satisfied: tqdm in /usr/local/lib/python3.10/dist-packages (from download->libsvmdata) (4.66.1)\n",
            "Requirement already satisfied: six in /usr/local/lib/python3.10/dist-packages (from download->libsvmdata) (1.16.0)\n",
            "Requirement already satisfied: requests in /usr/local/lib/python3.10/dist-packages (from download->libsvmdata) (2.31.0)\n",
            "Requirement already satisfied: joblib>=1.1.1 in /usr/local/lib/python3.10/dist-packages (from scikit-learn->libsvmdata) (1.3.2)\n",
            "Requirement already satisfied: threadpoolctl>=2.0.0 in /usr/local/lib/python3.10/dist-packages (from scikit-learn->libsvmdata) (3.2.0)\n",
            "Requirement already satisfied: charset-normalizer<4,>=2 in /usr/local/lib/python3.10/dist-packages (from requests->download->libsvmdata) (3.2.0)\n",
            "Requirement already satisfied: idna<4,>=2.5 in /usr/local/lib/python3.10/dist-packages (from requests->download->libsvmdata) (3.4)\n",
            "Requirement already satisfied: urllib3<3,>=1.21.1 in /usr/local/lib/python3.10/dist-packages (from requests->download->libsvmdata) (2.0.4)\n",
            "Requirement already satisfied: certifi>=2017.4.17 in /usr/local/lib/python3.10/dist-packages (from requests->download->libsvmdata) (2023.7.22)\n"
          ]
        }
      ],
      "source": [
        "!pip install libsvmdata"
      ]
    },
    {
      "cell_type": "code",
      "execution_count": 62,
      "metadata": {
        "id": "9Ji6u3CtCFQf"
      },
      "outputs": [],
      "source": [
        "import numpy as np\n",
        "from sklearn.metrics import accuracy_score, precision_score, recall_score, f1_score, confusion_matrix\n",
        "import matplotlib.pyplot as plt"
      ]
    },
    {
      "cell_type": "code",
      "execution_count": 63,
      "metadata": {
        "id": "Ke_p_dV5scGq"
      },
      "outputs": [],
      "source": [
        "from libsvmdata import fetch_libsvm\n",
        "X, y = fetch_libsvm(\"diabetes_scale\")"
      ]
    },
    {
      "cell_type": "code",
      "execution_count": 64,
      "metadata": {
        "colab": {
          "base_uri": "https://localhost:8080/"
        },
        "id": "2fKPXepasgQB",
        "outputId": "7838a2d9-65d3-4cc3-9975-a7b76cb47196"
      },
      "outputs": [
        {
          "output_type": "execute_result",
          "data": {
            "text/plain": [
              "array([[-0.294118  ,  0.487437  ,  0.180328  , ...,  0.00149028,\n",
              "        -0.53117   , -0.0333333 ],\n",
              "       [-0.882353  , -0.145729  ,  0.0819672 , ..., -0.207153  ,\n",
              "        -0.766866  , -0.666667  ],\n",
              "       [-0.0588235 ,  0.839196  ,  0.0491803 , ..., -0.305514  ,\n",
              "        -0.492741  , -0.633333  ],\n",
              "       ...,\n",
              "       [-0.411765  ,  0.21608   ,  0.180328  , ..., -0.219076  ,\n",
              "        -0.857387  , -0.7       ],\n",
              "       [-0.882353  ,  0.266332  , -0.0163934 , ..., -0.102832  ,\n",
              "        -0.768574  , -0.133333  ],\n",
              "       [-0.882353  , -0.0653266 ,  0.147541  , ..., -0.0938897 ,\n",
              "        -0.797609  , -0.933333  ]])"
            ]
          },
          "metadata": {},
          "execution_count": 64
        }
      ],
      "source": [
        "X"
      ]
    },
    {
      "cell_type": "code",
      "execution_count": 65,
      "metadata": {
        "colab": {
          "base_uri": "https://localhost:8080/"
        },
        "id": "LOjFnXRKshBU",
        "outputId": "be5a0d85-cbae-4541-f81d-450d6d45b9f3"
      },
      "outputs": [
        {
          "output_type": "execute_result",
          "data": {
            "text/plain": [
              "(768, 8)"
            ]
          },
          "metadata": {},
          "execution_count": 65
        }
      ],
      "source": [
        "X.shape"
      ]
    },
    {
      "cell_type": "code",
      "execution_count": 66,
      "metadata": {
        "colab": {
          "base_uri": "https://localhost:8080/"
        },
        "id": "qtob0ORzslJ9",
        "outputId": "48f539ed-9297-4229-9ff5-17c6a9d9be4e"
      },
      "outputs": [
        {
          "output_type": "execute_result",
          "data": {
            "text/plain": [
              "(768,)"
            ]
          },
          "metadata": {},
          "execution_count": 66
        }
      ],
      "source": [
        "y.shape"
      ]
    },
    {
      "cell_type": "code",
      "execution_count": 67,
      "metadata": {
        "colab": {
          "base_uri": "https://localhost:8080/"
        },
        "id": "yBpOsiLwqv3i",
        "outputId": "0638f26b-a582-4e39-9dc7-bbc4176916da"
      },
      "outputs": [
        {
          "output_type": "stream",
          "name": "stdout",
          "text": [
            "Number of missing values: 0\n"
          ]
        }
      ],
      "source": [
        "missing_values = np.isnan(X).sum()\n",
        "print(\"Number of missing values:\", missing_values)"
      ]
    },
    {
      "cell_type": "code",
      "execution_count": 68,
      "metadata": {
        "colab": {
          "base_uri": "https://localhost:8080/"
        },
        "id": "G4P7_-DwqzNC",
        "outputId": "71c1c515-4d4d-4b17-ede5-540eb855ae2a"
      },
      "outputs": [
        {
          "output_type": "stream",
          "name": "stdout",
          "text": [
            "Class distribution: {-1.0: 268, 1.0: 500}\n"
          ]
        }
      ],
      "source": [
        "unique_classes, class_counts = np.unique(y, return_counts=True)\n",
        "print(\"Class distribution:\", dict(zip(unique_classes, class_counts)))"
      ]
    },
    {
      "cell_type": "code",
      "execution_count": 69,
      "metadata": {
        "colab": {
          "base_uri": "https://localhost:8080/",
          "height": 423
        },
        "id": "MbrCS5pFGj7j",
        "outputId": "b772c84d-9030-43b6-ff0d-6c2fbd30f445"
      },
      "outputs": [
        {
          "output_type": "execute_result",
          "data": {
            "text/plain": [
              "     Pregnancies   Glucose  Blood Pressure  Skin Thickness   Insulin  \\\n",
              "0      -0.294118  0.487437        0.180328       -0.292929 -1.000000   \n",
              "1      -0.882353 -0.145729        0.081967       -0.414141 -1.000000   \n",
              "2      -0.058824  0.839196        0.049180       -1.000000 -1.000000   \n",
              "3      -0.882353 -0.105528        0.081967       -0.535354 -0.777778   \n",
              "4      -1.000000  0.376884       -0.344262       -0.292929 -0.602837   \n",
              "..           ...       ...             ...             ...       ...   \n",
              "763     0.176471  0.015075        0.245902       -0.030303 -0.574468   \n",
              "764    -0.764706  0.226131        0.147541       -0.454545 -1.000000   \n",
              "765    -0.411765  0.216080        0.180328       -0.535354 -0.735225   \n",
              "766    -0.882353  0.266332       -0.016393       -1.000000 -1.000000   \n",
              "767    -0.882353 -0.065327        0.147541       -0.373737 -1.000000   \n",
              "\n",
              "          BMI  Diabetes Pedigree       Age  Output  \n",
              "0    0.001490          -0.531170 -0.033333    -1.0  \n",
              "1   -0.207153          -0.766866 -0.666667     1.0  \n",
              "2   -0.305514          -0.492741 -0.633333    -1.0  \n",
              "3   -0.162444          -0.923997 -1.000000     1.0  \n",
              "4    0.284650           0.887276 -0.600000    -1.0  \n",
              "..        ...                ...       ...     ...  \n",
              "763 -0.019374          -0.920581  0.400000     1.0  \n",
              "764  0.096870          -0.776260 -0.800000     1.0  \n",
              "765 -0.219076          -0.857387 -0.700000     1.0  \n",
              "766 -0.102832          -0.768574 -0.133333    -1.0  \n",
              "767 -0.093890          -0.797609 -0.933333     1.0  \n",
              "\n",
              "[768 rows x 9 columns]"
            ],
            "text/html": [
              "\n",
              "  <div id=\"df-8184d17a-6f5e-4b53-8963-3c873edbc771\" class=\"colab-df-container\">\n",
              "    <div>\n",
              "<style scoped>\n",
              "    .dataframe tbody tr th:only-of-type {\n",
              "        vertical-align: middle;\n",
              "    }\n",
              "\n",
              "    .dataframe tbody tr th {\n",
              "        vertical-align: top;\n",
              "    }\n",
              "\n",
              "    .dataframe thead th {\n",
              "        text-align: right;\n",
              "    }\n",
              "</style>\n",
              "<table border=\"1\" class=\"dataframe\">\n",
              "  <thead>\n",
              "    <tr style=\"text-align: right;\">\n",
              "      <th></th>\n",
              "      <th>Pregnancies</th>\n",
              "      <th>Glucose</th>\n",
              "      <th>Blood Pressure</th>\n",
              "      <th>Skin Thickness</th>\n",
              "      <th>Insulin</th>\n",
              "      <th>BMI</th>\n",
              "      <th>Diabetes Pedigree</th>\n",
              "      <th>Age</th>\n",
              "      <th>Output</th>\n",
              "    </tr>\n",
              "  </thead>\n",
              "  <tbody>\n",
              "    <tr>\n",
              "      <th>0</th>\n",
              "      <td>-0.294118</td>\n",
              "      <td>0.487437</td>\n",
              "      <td>0.180328</td>\n",
              "      <td>-0.292929</td>\n",
              "      <td>-1.000000</td>\n",
              "      <td>0.001490</td>\n",
              "      <td>-0.531170</td>\n",
              "      <td>-0.033333</td>\n",
              "      <td>-1.0</td>\n",
              "    </tr>\n",
              "    <tr>\n",
              "      <th>1</th>\n",
              "      <td>-0.882353</td>\n",
              "      <td>-0.145729</td>\n",
              "      <td>0.081967</td>\n",
              "      <td>-0.414141</td>\n",
              "      <td>-1.000000</td>\n",
              "      <td>-0.207153</td>\n",
              "      <td>-0.766866</td>\n",
              "      <td>-0.666667</td>\n",
              "      <td>1.0</td>\n",
              "    </tr>\n",
              "    <tr>\n",
              "      <th>2</th>\n",
              "      <td>-0.058824</td>\n",
              "      <td>0.839196</td>\n",
              "      <td>0.049180</td>\n",
              "      <td>-1.000000</td>\n",
              "      <td>-1.000000</td>\n",
              "      <td>-0.305514</td>\n",
              "      <td>-0.492741</td>\n",
              "      <td>-0.633333</td>\n",
              "      <td>-1.0</td>\n",
              "    </tr>\n",
              "    <tr>\n",
              "      <th>3</th>\n",
              "      <td>-0.882353</td>\n",
              "      <td>-0.105528</td>\n",
              "      <td>0.081967</td>\n",
              "      <td>-0.535354</td>\n",
              "      <td>-0.777778</td>\n",
              "      <td>-0.162444</td>\n",
              "      <td>-0.923997</td>\n",
              "      <td>-1.000000</td>\n",
              "      <td>1.0</td>\n",
              "    </tr>\n",
              "    <tr>\n",
              "      <th>4</th>\n",
              "      <td>-1.000000</td>\n",
              "      <td>0.376884</td>\n",
              "      <td>-0.344262</td>\n",
              "      <td>-0.292929</td>\n",
              "      <td>-0.602837</td>\n",
              "      <td>0.284650</td>\n",
              "      <td>0.887276</td>\n",
              "      <td>-0.600000</td>\n",
              "      <td>-1.0</td>\n",
              "    </tr>\n",
              "    <tr>\n",
              "      <th>...</th>\n",
              "      <td>...</td>\n",
              "      <td>...</td>\n",
              "      <td>...</td>\n",
              "      <td>...</td>\n",
              "      <td>...</td>\n",
              "      <td>...</td>\n",
              "      <td>...</td>\n",
              "      <td>...</td>\n",
              "      <td>...</td>\n",
              "    </tr>\n",
              "    <tr>\n",
              "      <th>763</th>\n",
              "      <td>0.176471</td>\n",
              "      <td>0.015075</td>\n",
              "      <td>0.245902</td>\n",
              "      <td>-0.030303</td>\n",
              "      <td>-0.574468</td>\n",
              "      <td>-0.019374</td>\n",
              "      <td>-0.920581</td>\n",
              "      <td>0.400000</td>\n",
              "      <td>1.0</td>\n",
              "    </tr>\n",
              "    <tr>\n",
              "      <th>764</th>\n",
              "      <td>-0.764706</td>\n",
              "      <td>0.226131</td>\n",
              "      <td>0.147541</td>\n",
              "      <td>-0.454545</td>\n",
              "      <td>-1.000000</td>\n",
              "      <td>0.096870</td>\n",
              "      <td>-0.776260</td>\n",
              "      <td>-0.800000</td>\n",
              "      <td>1.0</td>\n",
              "    </tr>\n",
              "    <tr>\n",
              "      <th>765</th>\n",
              "      <td>-0.411765</td>\n",
              "      <td>0.216080</td>\n",
              "      <td>0.180328</td>\n",
              "      <td>-0.535354</td>\n",
              "      <td>-0.735225</td>\n",
              "      <td>-0.219076</td>\n",
              "      <td>-0.857387</td>\n",
              "      <td>-0.700000</td>\n",
              "      <td>1.0</td>\n",
              "    </tr>\n",
              "    <tr>\n",
              "      <th>766</th>\n",
              "      <td>-0.882353</td>\n",
              "      <td>0.266332</td>\n",
              "      <td>-0.016393</td>\n",
              "      <td>-1.000000</td>\n",
              "      <td>-1.000000</td>\n",
              "      <td>-0.102832</td>\n",
              "      <td>-0.768574</td>\n",
              "      <td>-0.133333</td>\n",
              "      <td>-1.0</td>\n",
              "    </tr>\n",
              "    <tr>\n",
              "      <th>767</th>\n",
              "      <td>-0.882353</td>\n",
              "      <td>-0.065327</td>\n",
              "      <td>0.147541</td>\n",
              "      <td>-0.373737</td>\n",
              "      <td>-1.000000</td>\n",
              "      <td>-0.093890</td>\n",
              "      <td>-0.797609</td>\n",
              "      <td>-0.933333</td>\n",
              "      <td>1.0</td>\n",
              "    </tr>\n",
              "  </tbody>\n",
              "</table>\n",
              "<p>768 rows × 9 columns</p>\n",
              "</div>\n",
              "    <div class=\"colab-df-buttons\">\n",
              "\n",
              "  <div class=\"colab-df-container\">\n",
              "    <button class=\"colab-df-convert\" onclick=\"convertToInteractive('df-8184d17a-6f5e-4b53-8963-3c873edbc771')\"\n",
              "            title=\"Convert this dataframe to an interactive table.\"\n",
              "            style=\"display:none;\">\n",
              "\n",
              "  <svg xmlns=\"http://www.w3.org/2000/svg\" height=\"24px\" viewBox=\"0 -960 960 960\">\n",
              "    <path d=\"M120-120v-720h720v720H120Zm60-500h600v-160H180v160Zm220 220h160v-160H400v160Zm0 220h160v-160H400v160ZM180-400h160v-160H180v160Zm440 0h160v-160H620v160ZM180-180h160v-160H180v160Zm440 0h160v-160H620v160Z\"/>\n",
              "  </svg>\n",
              "    </button>\n",
              "\n",
              "  <style>\n",
              "    .colab-df-container {\n",
              "      display:flex;\n",
              "      gap: 12px;\n",
              "    }\n",
              "\n",
              "    .colab-df-convert {\n",
              "      background-color: #E8F0FE;\n",
              "      border: none;\n",
              "      border-radius: 50%;\n",
              "      cursor: pointer;\n",
              "      display: none;\n",
              "      fill: #1967D2;\n",
              "      height: 32px;\n",
              "      padding: 0 0 0 0;\n",
              "      width: 32px;\n",
              "    }\n",
              "\n",
              "    .colab-df-convert:hover {\n",
              "      background-color: #E2EBFA;\n",
              "      box-shadow: 0px 1px 2px rgba(60, 64, 67, 0.3), 0px 1px 3px 1px rgba(60, 64, 67, 0.15);\n",
              "      fill: #174EA6;\n",
              "    }\n",
              "\n",
              "    .colab-df-buttons div {\n",
              "      margin-bottom: 4px;\n",
              "    }\n",
              "\n",
              "    [theme=dark] .colab-df-convert {\n",
              "      background-color: #3B4455;\n",
              "      fill: #D2E3FC;\n",
              "    }\n",
              "\n",
              "    [theme=dark] .colab-df-convert:hover {\n",
              "      background-color: #434B5C;\n",
              "      box-shadow: 0px 1px 3px 1px rgba(0, 0, 0, 0.15);\n",
              "      filter: drop-shadow(0px 1px 2px rgba(0, 0, 0, 0.3));\n",
              "      fill: #FFFFFF;\n",
              "    }\n",
              "  </style>\n",
              "\n",
              "    <script>\n",
              "      const buttonEl =\n",
              "        document.querySelector('#df-8184d17a-6f5e-4b53-8963-3c873edbc771 button.colab-df-convert');\n",
              "      buttonEl.style.display =\n",
              "        google.colab.kernel.accessAllowed ? 'block' : 'none';\n",
              "\n",
              "      async function convertToInteractive(key) {\n",
              "        const element = document.querySelector('#df-8184d17a-6f5e-4b53-8963-3c873edbc771');\n",
              "        const dataTable =\n",
              "          await google.colab.kernel.invokeFunction('convertToInteractive',\n",
              "                                                    [key], {});\n",
              "        if (!dataTable) return;\n",
              "\n",
              "        const docLinkHtml = 'Like what you see? Visit the ' +\n",
              "          '<a target=\"_blank\" href=https://colab.research.google.com/notebooks/data_table.ipynb>data table notebook</a>'\n",
              "          + ' to learn more about interactive tables.';\n",
              "        element.innerHTML = '';\n",
              "        dataTable['output_type'] = 'display_data';\n",
              "        await google.colab.output.renderOutput(dataTable, element);\n",
              "        const docLink = document.createElement('div');\n",
              "        docLink.innerHTML = docLinkHtml;\n",
              "        element.appendChild(docLink);\n",
              "      }\n",
              "    </script>\n",
              "  </div>\n",
              "\n",
              "\n",
              "<div id=\"df-1452a018-d16b-45f3-afe4-d2a97dd09a49\">\n",
              "  <button class=\"colab-df-quickchart\" onclick=\"quickchart('df-1452a018-d16b-45f3-afe4-d2a97dd09a49')\"\n",
              "            title=\"Suggest charts.\"\n",
              "            style=\"display:none;\">\n",
              "\n",
              "<svg xmlns=\"http://www.w3.org/2000/svg\" height=\"24px\"viewBox=\"0 0 24 24\"\n",
              "     width=\"24px\">\n",
              "    <g>\n",
              "        <path d=\"M19 3H5c-1.1 0-2 .9-2 2v14c0 1.1.9 2 2 2h14c1.1 0 2-.9 2-2V5c0-1.1-.9-2-2-2zM9 17H7v-7h2v7zm4 0h-2V7h2v10zm4 0h-2v-4h2v4z\"/>\n",
              "    </g>\n",
              "</svg>\n",
              "  </button>\n",
              "\n",
              "<style>\n",
              "  .colab-df-quickchart {\n",
              "      --bg-color: #E8F0FE;\n",
              "      --fill-color: #1967D2;\n",
              "      --hover-bg-color: #E2EBFA;\n",
              "      --hover-fill-color: #174EA6;\n",
              "      --disabled-fill-color: #AAA;\n",
              "      --disabled-bg-color: #DDD;\n",
              "  }\n",
              "\n",
              "  [theme=dark] .colab-df-quickchart {\n",
              "      --bg-color: #3B4455;\n",
              "      --fill-color: #D2E3FC;\n",
              "      --hover-bg-color: #434B5C;\n",
              "      --hover-fill-color: #FFFFFF;\n",
              "      --disabled-bg-color: #3B4455;\n",
              "      --disabled-fill-color: #666;\n",
              "  }\n",
              "\n",
              "  .colab-df-quickchart {\n",
              "    background-color: var(--bg-color);\n",
              "    border: none;\n",
              "    border-radius: 50%;\n",
              "    cursor: pointer;\n",
              "    display: none;\n",
              "    fill: var(--fill-color);\n",
              "    height: 32px;\n",
              "    padding: 0;\n",
              "    width: 32px;\n",
              "  }\n",
              "\n",
              "  .colab-df-quickchart:hover {\n",
              "    background-color: var(--hover-bg-color);\n",
              "    box-shadow: 0 1px 2px rgba(60, 64, 67, 0.3), 0 1px 3px 1px rgba(60, 64, 67, 0.15);\n",
              "    fill: var(--button-hover-fill-color);\n",
              "  }\n",
              "\n",
              "  .colab-df-quickchart-complete:disabled,\n",
              "  .colab-df-quickchart-complete:disabled:hover {\n",
              "    background-color: var(--disabled-bg-color);\n",
              "    fill: var(--disabled-fill-color);\n",
              "    box-shadow: none;\n",
              "  }\n",
              "\n",
              "  .colab-df-spinner {\n",
              "    border: 2px solid var(--fill-color);\n",
              "    border-color: transparent;\n",
              "    border-bottom-color: var(--fill-color);\n",
              "    animation:\n",
              "      spin 1s steps(1) infinite;\n",
              "  }\n",
              "\n",
              "  @keyframes spin {\n",
              "    0% {\n",
              "      border-color: transparent;\n",
              "      border-bottom-color: var(--fill-color);\n",
              "      border-left-color: var(--fill-color);\n",
              "    }\n",
              "    20% {\n",
              "      border-color: transparent;\n",
              "      border-left-color: var(--fill-color);\n",
              "      border-top-color: var(--fill-color);\n",
              "    }\n",
              "    30% {\n",
              "      border-color: transparent;\n",
              "      border-left-color: var(--fill-color);\n",
              "      border-top-color: var(--fill-color);\n",
              "      border-right-color: var(--fill-color);\n",
              "    }\n",
              "    40% {\n",
              "      border-color: transparent;\n",
              "      border-right-color: var(--fill-color);\n",
              "      border-top-color: var(--fill-color);\n",
              "    }\n",
              "    60% {\n",
              "      border-color: transparent;\n",
              "      border-right-color: var(--fill-color);\n",
              "    }\n",
              "    80% {\n",
              "      border-color: transparent;\n",
              "      border-right-color: var(--fill-color);\n",
              "      border-bottom-color: var(--fill-color);\n",
              "    }\n",
              "    90% {\n",
              "      border-color: transparent;\n",
              "      border-bottom-color: var(--fill-color);\n",
              "    }\n",
              "  }\n",
              "</style>\n",
              "\n",
              "  <script>\n",
              "    async function quickchart(key) {\n",
              "      const quickchartButtonEl =\n",
              "        document.querySelector('#' + key + ' button');\n",
              "      quickchartButtonEl.disabled = true;  // To prevent multiple clicks.\n",
              "      quickchartButtonEl.classList.add('colab-df-spinner');\n",
              "      try {\n",
              "        const charts = await google.colab.kernel.invokeFunction(\n",
              "            'suggestCharts', [key], {});\n",
              "      } catch (error) {\n",
              "        console.error('Error during call to suggestCharts:', error);\n",
              "      }\n",
              "      quickchartButtonEl.classList.remove('colab-df-spinner');\n",
              "      quickchartButtonEl.classList.add('colab-df-quickchart-complete');\n",
              "    }\n",
              "    (() => {\n",
              "      let quickchartButtonEl =\n",
              "        document.querySelector('#df-1452a018-d16b-45f3-afe4-d2a97dd09a49 button');\n",
              "      quickchartButtonEl.style.display =\n",
              "        google.colab.kernel.accessAllowed ? 'block' : 'none';\n",
              "    })();\n",
              "  </script>\n",
              "</div>\n",
              "    </div>\n",
              "  </div>\n"
            ]
          },
          "metadata": {},
          "execution_count": 69
        }
      ],
      "source": [
        "import numpy as np\n",
        "import pandas as pd\n",
        "y_new = y.reshape(-1, 1)\n",
        "\n",
        "all_data = np.append(X, y_new, axis=1)\n",
        "var = ['Pregnancies', 'Glucose', 'Blood Pressure', 'Skin Thickness', 'Insulin', 'BMI', 'Diabetes Pedigree', 'Age', 'Output']\n",
        "df = pd.DataFrame(all_data, columns=var)\n",
        "df"
      ]
    },
    {
      "cell_type": "code",
      "execution_count": 70,
      "metadata": {
        "colab": {
          "base_uri": "https://localhost:8080/",
          "height": 853
        },
        "id": "Euioq4GqHWIC",
        "outputId": "4dd850c2-a8de-452f-de3c-1fcdc38f5e22"
      },
      "outputs": [
        {
          "output_type": "display_data",
          "data": {
            "text/plain": [
              "<Figure size 1000x1000 with 9 Axes>"
            ],
            "image/png": "[encoded data removed]"
          },
          "metadata": {}
        }
      ],
      "source": [
        "df.hist(figsize = (10,10),bins = 20, color = 'g', edgecolor = 'black');"
      ]
    },
    {
      "cell_type": "code",
      "execution_count": 71,
      "metadata": {
        "id": "TNi8zId2IBvA"
      },
      "outputs": [],
      "source": [
        "# Train test split\n",
        "from sklearn.model_selection import train_test_split\n",
        "X_train, X_, y_train, y_ = train_test_split(X,y, test_size = 0.2, random_state = 42)\n",
        "X_test, X_val, y_test, y_val = train_test_split(X_,y_, test_size = 0.5, random_state = 42)"
      ]
    },
    {
      "cell_type": "code",
      "execution_count": 72,
      "metadata": {
        "colab": {
          "base_uri": "https://localhost:8080/",
          "height": 521
        },
        "id": "l7xPoKMG4zjj",
        "outputId": "158bec33-e7ea-43cf-df62-86919ee029a6"
      },
      "outputs": [
        {
          "output_type": "display_data",
          "data": {
            "text/plain": [
              "<Figure size 600x600 with 1 Axes>"
            ],
            "image/png": "[encoded data removed]"
          },
          "metadata": {}
        }
      ],
      "source": [
        "import matplotlib.pyplot as plt\n",
        "\n",
        "categories = ['Train', 'Validation', 'Test']\n",
        "values = [round(len(X_train),0), len(X_val), len(X_test)]\n",
        "fig, ax = plt.subplots(figsize=(6, 6))\n",
        "ax.pie(values, labels=categories, autopct='%1.0f%%', startangle=90)\n",
        "plt.title('Circular Graph For Train, Validation, Test')\n",
        "plt.show()"
      ]
    },
    {
      "cell_type": "code",
      "execution_count": 73,
      "metadata": {
        "id": "W04bG8RenhDM"
      },
      "outputs": [],
      "source": [
        "# Perceptron prediction function\n",
        "def predict_perceptron(x, weights):\n",
        "    activation = np.dot(weights[1:], x) + weights[0]\n",
        "    return 1 if activation >= 0 else -1"
      ]
    },
    {
      "cell_type": "code",
      "execution_count": 74,
      "metadata": {
        "id": "Y_Is4QTJdTZm"
      },
      "outputs": [],
      "source": [
        "def score(y_true, predicted_labels):\n",
        "  accuracy = accuracy_score(y_true, predicted_labels)\n",
        "  precision = precision_score(y_true, predicted_labels, pos_label=1)\n",
        "  recall = recall_score(y_true, predicted_labels, pos_label=1)\n",
        "  f1 = f1_score(y_true, predicted_labels, pos_label=1)\n",
        "  conf_matrix = confusion_matrix(y_true, predicted_labels)\n",
        "\n",
        "  print(f\"Accuracy: {accuracy}\")\n",
        "  print(f\"Precision: {precision}\")\n",
        "  print(f\"Recall: {recall}\")\n",
        "  print(f\"F1-score: {f1}\")\n",
        "  print(f\"Confusion Matrix:\\n{conf_matrix}\")"
      ]
    },
    {
      "cell_type": "markdown",
      "metadata": {
        "id": "N7fdKAZH8xtc"
      },
      "source": [
        "##Base Line##"
      ]
    },
    {
      "cell_type": "code",
      "execution_count": 75,
      "metadata": {
        "id": "b1IU3Xu7g1un"
      },
      "outputs": [],
      "source": [
        "def train_perceptron(X, y, learning_rate= 0.01, max_epochs= 200):\n",
        "    num_samples, num_features = X.shape\n",
        "    weights = np.zeros(num_features + 1)  # add one for bias\n",
        "    accuracies = []\n",
        "\n",
        "    for _ in range(max_epochs):\n",
        "        error_count = 0\n",
        "        for i in range(num_samples):\n",
        "            prediction = predict_perceptron(X[i], weights)\n",
        "            update = learning_rate * (y[i] - prediction)\n",
        "            weights[1:] += update * X[i]\n",
        "            weights[0] += update\n",
        "            error_count += int(update != 0)\n",
        "        y_pred = [predict_perceptron(sample, weights) for sample in X]\n",
        "        accuracy = accuracy_score(y, y_pred)\n",
        "        accuracies.append(accuracy)\n",
        "        if error_count == 0:\n",
        "            break\n",
        "\n",
        "    return weights, accuracies"
      ]
    },
    {
      "cell_type": "code",
      "execution_count": 76,
      "metadata": {
        "colab": {
          "base_uri": "https://localhost:8080/"
        },
        "id": "7Sx3up2SdPfj",
        "outputId": "1efc7602-3f35-4146-f70a-71d586389f77"
      },
      "outputs": [
        {
          "output_type": "stream",
          "name": "stdout",
          "text": [
            "Accuracy: 0.7012987012987013\n",
            "Precision: 0.9\n",
            "Recall: 0.574468085106383\n",
            "F1-score: 0.7012987012987012\n",
            "Confusion Matrix:\n",
            "[[27  3]\n",
            " [20 27]]\n"
          ]
        }
      ],
      "source": [
        "trained_weights, accuracies = train_perceptron(X_train, y_train)\n",
        "predicted_labels = [predict_perceptron(sample, trained_weights) for sample in X_val]\n",
        "score(y_val, predicted_labels)"
      ]
    },
    {
      "cell_type": "markdown",
      "metadata": {
        "id": "FRCkOZTgVh6b"
      },
      "source": [
        "##Using Select Best K##"
      ]
    },
    {
      "cell_type": "code",
      "execution_count": 77,
      "metadata": {
        "id": "mhuqpoQcVhG4"
      },
      "outputs": [],
      "source": [
        "from sklearn.feature_selection import SelectKBest, f_classif\n",
        "k_best = SelectKBest(score_func=f_classif, k=5)  # Select the top 2 features\n",
        "X_train= k_best.fit_transform(X_train, y_train)\n",
        "X_val = k_best.transform(X_val)\n",
        "X_test = k_best.transform(X_test)"
      ]
    },
    {
      "cell_type": "code",
      "execution_count": 78,
      "metadata": {
        "colab": {
          "base_uri": "https://localhost:8080/"
        },
        "id": "U0Qvio90VqHc",
        "outputId": "6a77decf-6585-48b7-ece8-408ebd6bf329"
      },
      "outputs": [
        {
          "output_type": "stream",
          "name": "stdout",
          "text": [
            "Accuracy: 0.7662337662337663\n",
            "Precision: 0.7543859649122807\n",
            "Recall: 0.9148936170212766\n",
            "F1-score: 0.8269230769230769\n",
            "Confusion Matrix:\n",
            "[[16 14]\n",
            " [ 4 43]]\n"
          ]
        }
      ],
      "source": [
        "trained_weights, accuracies = train_perceptron(X_train, y_train)\n",
        "predicted_labels = [predict_perceptron(sample, trained_weights) for sample in X_val]\n",
        "score(y_val, predicted_labels)"
      ]
    },
    {
      "cell_type": "markdown",
      "metadata": {
        "id": "3xMARGx761Lf"
      },
      "source": [
        "##Search the iterations##"
      ]
    },
    {
      "cell_type": "code",
      "execution_count": 79,
      "metadata": {
        "colab": {
          "base_uri": "https://localhost:8080/"
        },
        "id": "DYmvKFDCoOl7",
        "outputId": "90b722e2-da24-47b2-b2c7-730b53448b28"
      },
      "outputs": [
        {
          "output_type": "stream",
          "name": "stdout",
          "text": [
            "Max epoch: 10, Accuracy: 0.7402597402597403\n",
            "Max epoch: 30, Accuracy: 0.7532467532467533\n",
            "Max epoch: 100, Accuracy: 0.7792207792207793\n",
            "Max epoch: 200, Accuracy: 0.7662337662337663\n",
            "Max epoch: 500, Accuracy: 0.7402597402597403\n",
            "Max epoch: 1000, Accuracy: 0.7792207792207793\n",
            "Best max_epochs: 100\n",
            "Best accuracy: 0.7792207792207793\n"
          ]
        }
      ],
      "source": [
        "max_epochs_values = [10, 30, 100, 200, 500, 1000]\n",
        "\n",
        "best_max_epochs = None\n",
        "best_accuracy = 0.0\n",
        "\n",
        "for max_epochs in max_epochs_values:\n",
        "    weights, accuracies = train_perceptron(X_train, y_train, max_epochs=max_epochs)\n",
        "    y_pred = [predict_perceptron(sample, weights) for sample in X_val]\n",
        "    accuracy = accuracy_score(y_val, y_pred)\n",
        "    print(f\"Max epoch: {max_epochs}, Accuracy: {accuracy}\")\n",
        "    if accuracy > best_accuracy:\n",
        "        best_accuracy = accuracy\n",
        "        best_max_epochs = max_epochs\n",
        "\n",
        "print(f\"Best max_epochs: {best_max_epochs}\")\n",
        "print(f\"Best accuracy: {best_accuracy}\")"
      ]
    },
    {
      "cell_type": "markdown",
      "metadata": {
        "id": "8zFdV7yZMjaX"
      },
      "source": [
        "##Search learning rate##"
      ]
    },
    {
      "cell_type": "code",
      "execution_count": 80,
      "metadata": {
        "colab": {
          "base_uri": "https://localhost:8080/"
        },
        "id": "5CjnCVygpTbx",
        "outputId": "0cbbf96a-923a-4ed9-a6e2-a344495c4c33"
      },
      "outputs": [
        {
          "output_type": "stream",
          "name": "stdout",
          "text": [
            "Learning rate: 0.0001, Accuracy: 0.7792207792207793\n",
            "Learning rate: 0.01, Accuracy: 0.7792207792207793\n",
            "Learning rate: 0.1, Accuracy: 0.7792207792207793\n",
            "Learning rate: 0.5, Accuracy: 0.7792207792207793\n",
            "Learning rate: 1.0, Accuracy: 0.7792207792207793\n",
            "Best learning_rate: 0.0001\n",
            "Best accuracy: 0.7792207792207793\n"
          ]
        }
      ],
      "source": [
        "learning_rate_values = [0.0001, 0.01, 0.1, 0.5, 1.0]\n",
        "\n",
        "best_learning_rate = None\n",
        "best_accuracy = 0.0\n",
        "\n",
        "for learning_rate in learning_rate_values:\n",
        "\n",
        "    weights, accuracies = train_perceptron(X_train, y_train, max_epochs= 100 , learning_rate=learning_rate)\n",
        "    y_pred = [predict_perceptron(sample, weights) for sample in X_val]\n",
        "    accuracy = accuracy_score(y_val, y_pred)\n",
        "    print(f\"Learning rate: {learning_rate}, Accuracy: {accuracy}\")\n",
        "    if accuracy > best_accuracy:\n",
        "        best_accuracy = accuracy\n",
        "        best_max_epochs = max_epochs\n",
        "        best_learning_rate = learning_rate\n",
        "\n",
        "print(f\"Best learning_rate: {best_learning_rate}\")\n",
        "print(f\"Best accuracy: {best_accuracy}\")"
      ]
    },
    {
      "cell_type": "markdown",
      "metadata": {
        "id": "iBkUDa1TZVtb"
      },
      "source": [
        "##FINAL RESULT##"
      ]
    },
    {
      "cell_type": "code",
      "execution_count": 81,
      "metadata": {
        "id": "bjjs3Xq1Zgjm"
      },
      "outputs": [],
      "source": [
        "best_learning_rate = 0.1\n",
        "best_iteration = 100\n",
        "\n",
        "trained_weights, accuracies = train_perceptron(X_train, y_train, learning_rate = best_learning_rate, max_epochs = best_iteration)"
      ]
    },
    {
      "cell_type": "code",
      "execution_count": 82,
      "metadata": {
        "colab": {
          "base_uri": "https://localhost:8080/",
          "height": 472
        },
        "id": "afA0hqLev31u",
        "outputId": "6dc42ddf-fa83-44f4-8c4f-dd70e9520764"
      },
      "outputs": [
        {
          "output_type": "display_data",
          "data": {
            "text/plain": [
              "<Figure size 640x480 with 1 Axes>"
            ],
            "image/png": "[encoded data removed]"
          },
          "metadata": {}
        }
      ],
      "source": [
        "import matplotlib.pyplot as plt\n",
        "plt.plot(range(1, len(accuracies) + 1), accuracies)\n",
        "plt.xlabel('Epochs')\n",
        "plt.ylabel('Accuracy')\n",
        "plt.title('Accuracy and Epochs')\n",
        "plt.grid(True)\n",
        "plt.show()"
      ]
    },
    {
      "cell_type": "code",
      "execution_count": 83,
      "metadata": {
        "colab": {
          "base_uri": "https://localhost:8080/"
        },
        "id": "t05bDSzLZ7K6",
        "outputId": "0611f3fc-f15c-429e-8ed4-9f1ab4af419e"
      },
      "outputs": [
        {
          "output_type": "stream",
          "name": "stdout",
          "text": [
            "Accuracy: 0.7792207792207793\n",
            "Precision: 0.8125\n",
            "Recall: 0.8297872340425532\n",
            "F1-score: 0.8210526315789474\n",
            "Confusion Matrix:\n",
            "[[21  9]\n",
            " [ 8 39]]\n"
          ]
        }
      ],
      "source": [
        "predicted_labels = [predict_perceptron(sample, trained_weights) for sample in X_val]\n",
        "score(y_val, predicted_labels)"
      ]
    },
    {
      "cell_type": "code",
      "execution_count": 84,
      "metadata": {
        "colab": {
          "base_uri": "https://localhost:8080/"
        },
        "id": "MyRFqARJvCSH",
        "outputId": "af915d1b-3b3a-48ed-b6de-7cbadd13a287"
      },
      "outputs": [
        {
          "output_type": "stream",
          "name": "stdout",
          "text": [
            "              precision    recall  f1-score   support\n",
            "\n",
            "        -1.0       0.72      0.70      0.71        30\n",
            "         1.0       0.81      0.83      0.82        47\n",
            "\n",
            "    accuracy                           0.78        77\n",
            "   macro avg       0.77      0.76      0.77        77\n",
            "weighted avg       0.78      0.78      0.78        77\n",
            "\n"
          ]
        }
      ],
      "source": [
        "from sklearn.metrics import classification_report\n",
        "\n",
        "class_report = classification_report(y_val, predicted_labels)\n",
        "print(class_report)"
      ]
    },
    {
      "cell_type": "markdown",
      "metadata": {
        "id": "Oj7CugvvaBSf"
      },
      "source": [
        "##Apply on test set##"
      ]
    },
    {
      "cell_type": "code",
      "execution_count": 85,
      "metadata": {
        "colab": {
          "base_uri": "https://localhost:8080/"
        },
        "id": "vCHew7JUdx2a",
        "outputId": "67d99ad7-6a35-4d30-853c-3f9536241c3c"
      },
      "outputs": [
        {
          "output_type": "stream",
          "name": "stdout",
          "text": [
            "Accuracy: 0.8051948051948052\n",
            "Precision: 0.8490566037735849\n",
            "Recall: 0.8653846153846154\n",
            "F1-score: 0.8571428571428571\n",
            "Confusion Matrix:\n",
            "[[17  8]\n",
            " [ 7 45]]\n"
          ]
        }
      ],
      "source": [
        "predicted_labels = [predict_perceptron(sample, trained_weights) for sample in X_test]\n",
        "score(y_test, predicted_labels)"
      ]
    },
    {
      "cell_type": "code",
      "execution_count": 86,
      "metadata": {
        "colab": {
          "base_uri": "https://localhost:8080/"
        },
        "id": "2ptCH58Ck-mo",
        "outputId": "bf4ebd67-daca-4a1c-db3c-cef7c718e949"
      },
      "outputs": [
        {
          "output_type": "stream",
          "name": "stdout",
          "text": [
            "Classification Report:\n",
            "               precision    recall  f1-score   support\n",
            "\n",
            "        -1.0       0.71      0.68      0.69        25\n",
            "         1.0       0.85      0.87      0.86        52\n",
            "\n",
            "    accuracy                           0.81        77\n",
            "   macro avg       0.78      0.77      0.78        77\n",
            "weighted avg       0.80      0.81      0.80        77\n",
            "\n"
          ]
        }
      ],
      "source": [
        "from sklearn.metrics import classification_report\n",
        "\n",
        "class_report = classification_report(y_test, predicted_labels)\n",
        "print(\"Classification Report:\\n\", class_report)"
      ]
    },
    {
      "cell_type": "code",
      "execution_count": 87,
      "metadata": {
        "colab": {
          "base_uri": "https://localhost:8080/",
          "height": 564
        },
        "id": "mxR6q0VycOeO",
        "outputId": "8415caf1-ddfb-4bfc-bb52-e8781b873515"
      },
      "outputs": [
        {
          "output_type": "display_data",
          "data": {
            "text/plain": [
              "<Figure size 600x600 with 1 Axes>"
            ],
            "image/png": "[encoded data removed]"
          },
          "metadata": {}
        }
      ],
      "source": [
        "from sklearn.metrics import confusion_matrix\n",
        "import seaborn as sns\n",
        "import matplotlib.pyplot as plt\n",
        "\n",
        "\n",
        "confusion = confusion_matrix(y_test, predicted_labels)\n",
        "plt.figure(figsize=(6, 6))\n",
        "sns.heatmap(confusion, annot=True, fmt='d', cmap='Blues', cbar=False,\n",
        "            xticklabels=['-1', '1'],\n",
        "            yticklabels=['-1', '1'])\n",
        "plt.xlabel('Predicted')\n",
        "plt.ylabel('True')\n",
        "plt.title('Confusion Matrix')\n",
        "plt.show()"
      ]
    }
  ],
  "metadata": {
    "colab": {
      "machine_shape": "hm",
      "provenance": []
    },
    "kernelspec": {
      "display_name": "Python 3",
      "name": "python3"
    },
    "language_info": {
      "codemirror_mode": {
        "name": "ipython",
        "version": 3
      },
      "file_extension": ".py",
      "mimetype": "text/x-python",
      "name": "python",
      "nbconvert_exporter": "python",
      "pygments_lexer": "ipython3",
      "version": "3.10.11"
    }
  },
  "nbformat": 4,
  "nbformat_minor": 0
}